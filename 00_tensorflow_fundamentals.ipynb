{
  "nbformat": 4,
  "nbformat_minor": 0,
  "metadata": {
    "colab": {
      "provenance": [],
      "authorship_tag": "ABX9TyNx6CQc8XR7kn7aFkYuFWv4",
      "include_colab_link": true
    },
    "kernelspec": {
      "name": "python3",
      "display_name": "Python 3"
    },
    "language_info": {
      "name": "python"
    }
  },
  "cells": [
    {
      "cell_type": "markdown",
      "metadata": {
        "id": "view-in-github",
        "colab_type": "text"
      },
      "source": [
        "<a href=\"https://colab.research.google.com/github/Indrajeet71/tensorflow/blob/main/00_tensorflow_fundamentals.ipynb\" target=\"_parent\"><img src=\"https://colab.research.google.com/assets/colab-badge.svg\" alt=\"Open In Colab\"/></a>"
      ]
    },
    {
      "cell_type": "markdown",
      "source": [],
      "metadata": {
        "id": "nXhZNfZEDqrA"
      }
    },
    {
      "cell_type": "code",
      "source": [
        "#import tensorflow\n",
        "import tensorflow as tf\n",
        "print(tf.__version__)"
      ],
      "metadata": {
        "colab": {
          "base_uri": "https://localhost:8080/"
        },
        "id": "6lY3V6IjDtmY",
        "outputId": "2e97680c-e161-4e0a-80be-85b89cd44ea3"
      },
      "execution_count": null,
      "outputs": [
        {
          "output_type": "stream",
          "name": "stdout",
          "text": [
            "2.11.0\n"
          ]
        }
      ]
    },
    {
      "cell_type": "code",
      "source": [
        "#create tensors with tf.constants()\n",
        "scalar=tf.constant(7)\n",
        "scalar\n",
        " "
      ],
      "metadata": {
        "colab": {
          "base_uri": "https://localhost:8080/"
        },
        "id": "zn62feTID6RS",
        "outputId": "ada72633-d261-43cb-d342-706aa6116f38"
      },
      "execution_count": null,
      "outputs": [
        {
          "output_type": "execute_result",
          "data": {
            "text/plain": [
              "<tf.Tensor: shape=(), dtype=int32, numpy=7>"
            ]
          },
          "metadata": {},
          "execution_count": 16
        }
      ]
    },
    {
      "cell_type": "code",
      "source": [
        "#check the number of dimensions of tensor(ndim stands for number of dimensions)\n",
        "scalar.ndim\n"
      ],
      "metadata": {
        "colab": {
          "base_uri": "https://localhost:8080/"
        },
        "id": "6fxp7ZtLJ5Uh",
        "outputId": "88c3e691-9bc7-440b-d404-f1c2329152c5"
      },
      "execution_count": null,
      "outputs": [
        {
          "output_type": "execute_result",
          "data": {
            "text/plain": [
              "0"
            ]
          },
          "metadata": {},
          "execution_count": 17
        }
      ]
    },
    {
      "cell_type": "code",
      "source": [
        "#create a vector\n",
        "vector=tf.constant([10,10])\n",
        "vector"
      ],
      "metadata": {
        "colab": {
          "base_uri": "https://localhost:8080/"
        },
        "id": "c6hJQDe4NgJR",
        "outputId": "97801948-43e9-4015-fe03-2d8aabb6cc20"
      },
      "execution_count": null,
      "outputs": [
        {
          "output_type": "execute_result",
          "data": {
            "text/plain": [
              "<tf.Tensor: shape=(2,), dtype=int32, numpy=array([10, 10], dtype=int32)>"
            ]
          },
          "metadata": {},
          "execution_count": 18
        }
      ]
    },
    {
      "cell_type": "code",
      "source": [
        "#create dimension of the vector\n",
        "vector.ndim"
      ],
      "metadata": {
        "colab": {
          "base_uri": "https://localhost:8080/"
        },
        "id": "6ADZzVUAOApq",
        "outputId": "e84ebd5a-7a6f-4b9c-a013-59ca41e7c8bc"
      },
      "execution_count": null,
      "outputs": [
        {
          "output_type": "execute_result",
          "data": {
            "text/plain": [
              "1"
            ]
          },
          "metadata": {},
          "execution_count": 19
        }
      ]
    },
    {
      "cell_type": "code",
      "source": [
        "#create a matrix\n",
        "matrix=tf.constant([[1,2],\n",
        "                   [2,1]])\n",
        "matrix\n",
        "      "
      ],
      "metadata": {
        "colab": {
          "base_uri": "https://localhost:8080/"
        },
        "id": "sZVu24TXS9BQ",
        "outputId": "fd457816-ecbd-4170-e6ba-7e18bacafc74"
      },
      "execution_count": null,
      "outputs": [
        {
          "output_type": "execute_result",
          "data": {
            "text/plain": [
              "<tf.Tensor: shape=(2, 2), dtype=int32, numpy=\n",
              "array([[1, 2],\n",
              "       [2, 1]], dtype=int32)>"
            ]
          },
          "metadata": {},
          "execution_count": 20
        }
      ]
    },
    {
      "cell_type": "code",
      "source": [
        "matrix.ndim"
      ],
      "metadata": {
        "colab": {
          "base_uri": "https://localhost:8080/"
        },
        "id": "IH4E6qdfTnIX",
        "outputId": "7ed1f040-bbf1-4105-95b3-a7eee6e709a1"
      },
      "execution_count": null,
      "outputs": [
        {
          "output_type": "execute_result",
          "data": {
            "text/plain": [
              "2"
            ]
          },
          "metadata": {},
          "execution_count": 21
        }
      ]
    },
    {
      "cell_type": "code",
      "source": [
        "#create another matrix\n",
        "a_matrix=tf.constant([[10.,7.],\n",
        "                      [3.,5.]],dtype=tf.float16)#specfy data type here\n",
        "a_matrix"
      ],
      "metadata": {
        "colab": {
          "base_uri": "https://localhost:8080/"
        },
        "id": "fJ7d7gduT2PJ",
        "outputId": "ee35af00-bfd5-414f-e829-22719bf830d9"
      },
      "execution_count": null,
      "outputs": [
        {
          "output_type": "execute_result",
          "data": {
            "text/plain": [
              "<tf.Tensor: shape=(2, 2), dtype=float16, numpy=\n",
              "array([[10.,  7.],\n",
              "       [ 3.,  5.]], dtype=float16)>"
            ]
          },
          "metadata": {},
          "execution_count": 22
        }
      ]
    },
    {
      "cell_type": "code",
      "source": [
        "a_matrix.ndim"
      ],
      "metadata": {
        "colab": {
          "base_uri": "https://localhost:8080/"
        },
        "id": "yY4GhFgPUYO8",
        "outputId": "53fec9da-ff74-4662-dbde-b0246caca6bd"
      },
      "execution_count": null,
      "outputs": [
        {
          "output_type": "execute_result",
          "data": {
            "text/plain": [
              "2"
            ]
          },
          "metadata": {},
          "execution_count": 23
        }
      ]
    },
    {
      "cell_type": "code",
      "source": [
        "#create a tensor\n",
        "tensor=tf.constant([[[1,2,3],\n",
        "                    [4,5,6]],\n",
        "                   [[7,8,9],\n",
        "                    [10,11,12]],\n",
        "                   [[13,14,15],\n",
        "                    [16,17,18]]])\n",
        "tensor"
      ],
      "metadata": {
        "colab": {
          "base_uri": "https://localhost:8080/"
        },
        "id": "pUmGAj__UrPl",
        "outputId": "df7c1275-f98b-4641-ec64-937006c0979e"
      },
      "execution_count": null,
      "outputs": [
        {
          "output_type": "execute_result",
          "data": {
            "text/plain": [
              "<tf.Tensor: shape=(3, 2, 3), dtype=int32, numpy=\n",
              "array([[[ 1,  2,  3],\n",
              "        [ 4,  5,  6]],\n",
              "\n",
              "       [[ 7,  8,  9],\n",
              "        [10, 11, 12]],\n",
              "\n",
              "       [[13, 14, 15],\n",
              "        [16, 17, 18]]], dtype=int32)>"
            ]
          },
          "metadata": {},
          "execution_count": 24
        }
      ]
    },
    {
      "cell_type": "code",
      "source": [
        "tensor.ndim"
      ],
      "metadata": {
        "colab": {
          "base_uri": "https://localhost:8080/"
        },
        "id": "yhOtP-6VVm5d",
        "outputId": "71f938b4-ffb2-49be-a158-1912c2124039"
      },
      "execution_count": null,
      "outputs": [
        {
          "output_type": "execute_result",
          "data": {
            "text/plain": [
              "3"
            ]
          },
          "metadata": {},
          "execution_count": 25
        }
      ]
    },
    {
      "cell_type": "markdown",
      "source": [
        "scalar : a single number\n",
        "vector : a number with direction\n",
        "matrix : a 2-d dimension array of numbers\n",
        "tensor : a n-dimensonal array of numbers(when n can be any number,a 0-dimensional tensor is scalar,a 1-dimensional tensor is vector)"
      ],
      "metadata": {
        "id": "dqCHkTKDWHwD"
      }
    },
    {
      "cell_type": "markdown",
      "source": [
        "creating tensorflow with tf.variable\n"
      ],
      "metadata": {
        "id": "w_Z2SwIb7FIP"
      }
    },
    {
      "cell_type": "code",
      "source": [
        "#create\n",
        "changeable_tensor=tf.Variable([10,7])\n",
        "unchangeable_tensor=tf.constant([10,7])\n",
        "changeable_tensor,unchangeable_tensor\n"
      ],
      "metadata": {
        "colab": {
          "base_uri": "https://localhost:8080/"
        },
        "id": "5XtBxUUBV4PS",
        "outputId": "40a84771-9ae9-4632-ed89-fdc1ce0886b4"
      },
      "execution_count": null,
      "outputs": [
        {
          "output_type": "execute_result",
          "data": {
            "text/plain": [
              "(<tf.Variable 'Variable:0' shape=(2,) dtype=int32, numpy=array([10,  7], dtype=int32)>,\n",
              " <tf.Tensor: shape=(2,), dtype=int32, numpy=array([10,  7], dtype=int32)>)"
            ]
          },
          "metadata": {},
          "execution_count": 26
        }
      ]
    },
    {
      "cell_type": "code",
      "source": [
        "# to change one of the tensor (use .assign)\n",
        "changeable_tensor[0].assign(7)\n",
        "changeable_tensor"
      ],
      "metadata": {
        "colab": {
          "base_uri": "https://localhost:8080/"
        },
        "id": "f07JoEEr_coP",
        "outputId": "1a260d88-fe28-4b10-ad68-3134244ef9a0"
      },
      "execution_count": null,
      "outputs": [
        {
          "output_type": "execute_result",
          "data": {
            "text/plain": [
              "<tf.Variable 'Variable:0' shape=(2,) dtype=int32, numpy=array([7, 7], dtype=int32)>"
            ]
          },
          "metadata": {},
          "execution_count": 27
        }
      ]
    },
    {
      "cell_type": "code",
      "source": [
        "# unchangeable_tensor[0].assign(7)\n",
        "# unchangeable_tensor"
      ],
      "metadata": {
        "id": "oUgWvU7b_0gU"
      },
      "execution_count": null,
      "outputs": []
    },
    {
      "cell_type": "markdown",
      "source": [
        "Create Random Tensors\n"
      ],
      "metadata": {
        "id": "1tQNn3BCOSX7"
      }
    },
    {
      "cell_type": "code",
      "source": [
        " #create two random but same tensors\n",
        " random=tf.random.Generator.from_seed(42)\n",
        " random=random.normal(shape=(3,2))\n",
        " random\n"
      ],
      "metadata": {
        "colab": {
          "base_uri": "https://localhost:8080/"
        },
        "id": "dhOurYpKCMTv",
        "outputId": "05dbc40a-5b83-43f3-dcec-f310374f2f3b"
      },
      "execution_count": null,
      "outputs": [
        {
          "output_type": "execute_result",
          "data": {
            "text/plain": [
              "<tf.Tensor: shape=(3, 2), dtype=float32, numpy=\n",
              "array([[-0.7565803 , -0.06854702],\n",
              "       [ 0.07595026, -1.2573844 ],\n",
              "       [-0.23193763, -1.8107855 ]], dtype=float32)>"
            ]
          },
          "metadata": {},
          "execution_count": 29
        }
      ]
    },
    {
      "cell_type": "markdown",
      "source": [
        "shuffle tensors"
      ],
      "metadata": {
        "id": "Df0jSUY8kIMm"
      }
    },
    {
      "cell_type": "code",
      "source": [
        "non_shuffled=tf.constant([[1,2],\n",
        "                          [3,4],\n",
        "                          [5,6]])\n",
        "#to shuffle oue tensor\n",
        "tf.random.shuffle(non_shuffled)"
      ],
      "metadata": {
        "id": "sIcdD8AnQhNW",
        "colab": {
          "base_uri": "https://localhost:8080/"
        },
        "outputId": "5411a539-9eda-4c7a-af6b-d8f6e62c5bbf"
      },
      "execution_count": null,
      "outputs": [
        {
          "output_type": "execute_result",
          "data": {
            "text/plain": [
              "<tf.Tensor: shape=(3, 2), dtype=int32, numpy=\n",
              "array([[3, 4],\n",
              "       [5, 6],\n",
              "       [1, 2]], dtype=int32)>"
            ]
          },
          "metadata": {},
          "execution_count": 30
        }
      ]
    },
    {
      "cell_type": "code",
      "source": [
        "#using seed\n",
        "tf.random.set_seed(32)\n",
        "tf.random.shuffle(non_shuffled,seed=32)"
      ],
      "metadata": {
        "colab": {
          "base_uri": "https://localhost:8080/"
        },
        "id": "fnrWi1K7kwHr",
        "outputId": "adca1c54-99a4-46b4-f157-ce20fb033be7"
      },
      "execution_count": null,
      "outputs": [
        {
          "output_type": "execute_result",
          "data": {
            "text/plain": [
              "<tf.Tensor: shape=(3, 2), dtype=int32, numpy=\n",
              "array([[5, 6],\n",
              "       [3, 4],\n",
              "       [1, 2]], dtype=int32)>"
            ]
          },
          "metadata": {},
          "execution_count": 31
        }
      ]
    },
    {
      "cell_type": "markdown",
      "source": [
        "other ways to make tensors"
      ],
      "metadata": {
        "id": "GpThVzKEse7N"
      }
    },
    {
      "cell_type": "code",
      "source": [
        "#create with tf.ones (creates a tensor with all elments set to one(1))\n",
        "tf.ones([2,4])"
      ],
      "metadata": {
        "colab": {
          "base_uri": "https://localhost:8080/"
        },
        "id": "LleDBcx5lDLp",
        "outputId": "1ebe86e0-f641-4f75-c3ba-42410e6100c7"
      },
      "execution_count": null,
      "outputs": [
        {
          "output_type": "execute_result",
          "data": {
            "text/plain": [
              "<tf.Tensor: shape=(2, 4), dtype=float32, numpy=\n",
              "array([[1., 1., 1., 1.],\n",
              "       [1., 1., 1., 1.]], dtype=float32)>"
            ]
          },
          "metadata": {},
          "execution_count": 32
        }
      ]
    },
    {
      "cell_type": "code",
      "source": [
        "#create with tf.zeros\n",
        "tf.zeros(shape=(2,4))"
      ],
      "metadata": {
        "colab": {
          "base_uri": "https://localhost:8080/"
        },
        "id": "g5cyX-FitiGs",
        "outputId": "c7e85fd3-758a-4524-9b63-9568a19a3146"
      },
      "execution_count": null,
      "outputs": [
        {
          "output_type": "execute_result",
          "data": {
            "text/plain": [
              "<tf.Tensor: shape=(2, 4), dtype=float32, numpy=\n",
              "array([[0., 0., 0., 0.],\n",
              "       [0., 0., 0., 0.]], dtype=float32)>"
            ]
          },
          "metadata": {},
          "execution_count": 33
        }
      ]
    },
    {
      "cell_type": "markdown",
      "source": [
        "numpy arrays to tensors\n",
        "\n",
        "* main differnece between numpy array and tensors,is that tensors can run on gpu"
      ],
      "metadata": {
        "id": "187DsTkMt5PR"
      }
    },
    {
      "cell_type": "code",
      "source": [
        "#you can turn numpy arrays into tensors\n",
        "import numpy as np\n",
        "np_A=np.arange(2, 10,dtype=np.int32)\n",
        "np_A"
      ],
      "metadata": {
        "colab": {
          "base_uri": "https://localhost:8080/"
        },
        "id": "O3YX9jpdttJm",
        "outputId": "da555d6c-cb23-4f42-9d36-14618de2becf"
      },
      "execution_count": null,
      "outputs": [
        {
          "output_type": "execute_result",
          "data": {
            "text/plain": [
              "array([2, 3, 4, 5, 6, 7, 8, 9], dtype=int32)"
            ]
          },
          "metadata": {},
          "execution_count": 34
        }
      ]
    },
    {
      "cell_type": "code",
      "source": [
        "#to convert np_A into tensor A\n",
        "A=tf.constant(np_A,shape=(2,2,2))\n",
        "A\n"
      ],
      "metadata": {
        "colab": {
          "base_uri": "https://localhost:8080/"
        },
        "id": "7oHqYngluawx",
        "outputId": "158f80b5-5a1e-4d3d-91b1-8a821ac85418"
      },
      "execution_count": null,
      "outputs": [
        {
          "output_type": "execute_result",
          "data": {
            "text/plain": [
              "<tf.Tensor: shape=(2, 2, 2), dtype=int32, numpy=\n",
              "array([[[2, 3],\n",
              "        [4, 5]],\n",
              "\n",
              "       [[6, 7],\n",
              "        [8, 9]]], dtype=int32)>"
            ]
          },
          "metadata": {},
          "execution_count": 35
        }
      ]
    },
    {
      "cell_type": "markdown",
      "source": [
        "Getting info from tensor\n",
        "\n",
        "Attributes of tensors\n",
        "*shape (tf.shape)\n",
        "*rank  (tf.ndim)\n",
        "*axis or dimension (tf[0],tf[:,1]..)\n",
        "*Size (tf.size(tensor))\n"
      ],
      "metadata": {
        "id": "-bYoXIdzzTdS"
      }
    },
    {
      "cell_type": "code",
      "source": [
        "#create rank for tensor\n",
        "rank_4_tensor=tf.zeros(shape=(2,3,4,5))\n",
        "rank_4_tensor\n",
        "\n"
      ],
      "metadata": {
        "colab": {
          "base_uri": "https://localhost:8080/"
        },
        "id": "yrgW9PdDu6nJ",
        "outputId": "232f79e3-1932-48a1-9da0-203b1ecde325"
      },
      "execution_count": null,
      "outputs": [
        {
          "output_type": "execute_result",
          "data": {
            "text/plain": [
              "<tf.Tensor: shape=(2, 3, 4, 5), dtype=float32, numpy=\n",
              "array([[[[0., 0., 0., 0., 0.],\n",
              "         [0., 0., 0., 0., 0.],\n",
              "         [0., 0., 0., 0., 0.],\n",
              "         [0., 0., 0., 0., 0.]],\n",
              "\n",
              "        [[0., 0., 0., 0., 0.],\n",
              "         [0., 0., 0., 0., 0.],\n",
              "         [0., 0., 0., 0., 0.],\n",
              "         [0., 0., 0., 0., 0.]],\n",
              "\n",
              "        [[0., 0., 0., 0., 0.],\n",
              "         [0., 0., 0., 0., 0.],\n",
              "         [0., 0., 0., 0., 0.],\n",
              "         [0., 0., 0., 0., 0.]]],\n",
              "\n",
              "\n",
              "       [[[0., 0., 0., 0., 0.],\n",
              "         [0., 0., 0., 0., 0.],\n",
              "         [0., 0., 0., 0., 0.],\n",
              "         [0., 0., 0., 0., 0.]],\n",
              "\n",
              "        [[0., 0., 0., 0., 0.],\n",
              "         [0., 0., 0., 0., 0.],\n",
              "         [0., 0., 0., 0., 0.],\n",
              "         [0., 0., 0., 0., 0.]],\n",
              "\n",
              "        [[0., 0., 0., 0., 0.],\n",
              "         [0., 0., 0., 0., 0.],\n",
              "         [0., 0., 0., 0., 0.],\n",
              "         [0., 0., 0., 0., 0.]]]], dtype=float32)>"
            ]
          },
          "metadata": {},
          "execution_count": 36
        }
      ]
    },
    {
      "cell_type": "code",
      "source": [
        "rank_4_tensor[0] #getting axis"
      ],
      "metadata": {
        "colab": {
          "base_uri": "https://localhost:8080/"
        },
        "id": "CQ56yRjI0qEw",
        "outputId": "8c7af757-865e-48e5-d80e-3b52bbedba98"
      },
      "execution_count": null,
      "outputs": [
        {
          "output_type": "execute_result",
          "data": {
            "text/plain": [
              "<tf.Tensor: shape=(3, 4, 5), dtype=float32, numpy=\n",
              "array([[[0., 0., 0., 0., 0.],\n",
              "        [0., 0., 0., 0., 0.],\n",
              "        [0., 0., 0., 0., 0.],\n",
              "        [0., 0., 0., 0., 0.]],\n",
              "\n",
              "       [[0., 0., 0., 0., 0.],\n",
              "        [0., 0., 0., 0., 0.],\n",
              "        [0., 0., 0., 0., 0.],\n",
              "        [0., 0., 0., 0., 0.]],\n",
              "\n",
              "       [[0., 0., 0., 0., 0.],\n",
              "        [0., 0., 0., 0., 0.],\n",
              "        [0., 0., 0., 0., 0.],\n",
              "        [0., 0., 0., 0., 0.]]], dtype=float32)>"
            ]
          },
          "metadata": {},
          "execution_count": 37
        }
      ]
    },
    {
      "cell_type": "code",
      "source": [
        "rank_4_tensor.shape# getting shape"
      ],
      "metadata": {
        "colab": {
          "base_uri": "https://localhost:8080/"
        },
        "id": "X1U3ZRVdyMyK",
        "outputId": "93022cfa-d7b4-4347-d779-3c03478dae02"
      },
      "execution_count": null,
      "outputs": [
        {
          "output_type": "execute_result",
          "data": {
            "text/plain": [
              "TensorShape([2, 3, 4, 5])"
            ]
          },
          "metadata": {},
          "execution_count": 38
        }
      ]
    },
    {
      "cell_type": "code",
      "source": [
        "rank_4_tensor.ndim #getting rank"
      ],
      "metadata": {
        "colab": {
          "base_uri": "https://localhost:8080/"
        },
        "id": "065_mlji09WJ",
        "outputId": "f1380cf1-5544-4b94-c311-f6d37a06d2d2"
      },
      "execution_count": null,
      "outputs": [
        {
          "output_type": "execute_result",
          "data": {
            "text/plain": [
              "4"
            ]
          },
          "metadata": {},
          "execution_count": 39
        }
      ]
    },
    {
      "cell_type": "code",
      "source": [
        "tf.size(rank_4_tensor)#getting size"
      ],
      "metadata": {
        "colab": {
          "base_uri": "https://localhost:8080/"
        },
        "id": "6WcgJdfy1DG7",
        "outputId": "fbbd4e0c-054c-4bc7-983c-ed6670eb3675"
      },
      "execution_count": null,
      "outputs": [
        {
          "output_type": "execute_result",
          "data": {
            "text/plain": [
              "<tf.Tensor: shape=(), dtype=int32, numpy=120>"
            ]
          },
          "metadata": {},
          "execution_count": 40
        }
      ]
    },
    {
      "cell_type": "code",
      "source": [
        "#get various attributes of tensor\n",
        "print(\"Datatype of every element:\",rank_4_tensor.dtype)\n",
        "#get shape,ndim,"
      ],
      "metadata": {
        "colab": {
          "base_uri": "https://localhost:8080/"
        },
        "id": "F2i8tAAK1IOk",
        "outputId": "581a83b9-4a92-4cfb-de56-9ac9e4ecca54"
      },
      "execution_count": null,
      "outputs": [
        {
          "output_type": "stream",
          "name": "stdout",
          "text": [
            "Datatype of every element: <dtype: 'float32'>\n"
          ]
        }
      ]
    },
    {
      "cell_type": "markdown",
      "source": [
        "Indexing tensors\n",
        "\n",
        "Tensors can be indexed just like Python lists."
      ],
      "metadata": {
        "id": "LlBMf6Z2d4cJ"
      }
    },
    {
      "cell_type": "code",
      "source": [
        "#Get the first 2 ekementsof each dimension\n",
        "rank_4_tensor[:2,:2,:2,:2]"
      ],
      "metadata": {
        "colab": {
          "base_uri": "https://localhost:8080/"
        },
        "id": "ZmPr_jNYeA2I",
        "outputId": "f2c6b671-ba14-4ce6-dc6f-41550815788c"
      },
      "execution_count": null,
      "outputs": [
        {
          "output_type": "execute_result",
          "data": {
            "text/plain": [
              "<tf.Tensor: shape=(2, 2, 2, 2), dtype=float32, numpy=\n",
              "array([[[[0., 0.],\n",
              "         [0., 0.]],\n",
              "\n",
              "        [[0., 0.],\n",
              "         [0., 0.]]],\n",
              "\n",
              "\n",
              "       [[[0., 0.],\n",
              "         [0., 0.]],\n",
              "\n",
              "        [[0., 0.],\n",
              "         [0., 0.]]]], dtype=float32)>"
            ]
          },
          "metadata": {},
          "execution_count": 42
        }
      ]
    },
    {
      "cell_type": "code",
      "source": [
        "# Get first element from each dimension except for the last one\n",
        "rank_4_tensor[:1,:1,:1,:]"
      ],
      "metadata": {
        "colab": {
          "base_uri": "https://localhost:8080/"
        },
        "id": "tuxqOIkOejIv",
        "outputId": "a6aaee7a-226f-407d-f026-9c357bd2e8c5"
      },
      "execution_count": null,
      "outputs": [
        {
          "output_type": "execute_result",
          "data": {
            "text/plain": [
              "<tf.Tensor: shape=(1, 1, 1, 5), dtype=float32, numpy=array([[[[0., 0., 0., 0., 0.]]]], dtype=float32)>"
            ]
          },
          "metadata": {},
          "execution_count": 43
        }
      ]
    },
    {
      "cell_type": "code",
      "source": [
        "rank_4_tensor[:1,:1,:,:1]"
      ],
      "metadata": {
        "colab": {
          "base_uri": "https://localhost:8080/"
        },
        "id": "v4_9-TNS5cC0",
        "outputId": "8e2f8a04-3bed-45c7-eda9-b0b1d266ecc2"
      },
      "execution_count": null,
      "outputs": [
        {
          "output_type": "execute_result",
          "data": {
            "text/plain": [
              "<tf.Tensor: shape=(1, 1, 4, 1), dtype=float32, numpy=\n",
              "array([[[[0.],\n",
              "         [0.],\n",
              "         [0.],\n",
              "         [0.]]]], dtype=float32)>"
            ]
          },
          "metadata": {},
          "execution_count": 44
        }
      ]
    },
    {
      "cell_type": "code",
      "source": [
        "rank_4_tensor[:1,:,:1,:1]"
      ],
      "metadata": {
        "colab": {
          "base_uri": "https://localhost:8080/"
        },
        "id": "hqHRpsW_5izc",
        "outputId": "d47fff1f-2d07-4ba7-bf92-9b9bfec44c2e"
      },
      "execution_count": null,
      "outputs": [
        {
          "output_type": "execute_result",
          "data": {
            "text/plain": [
              "<tf.Tensor: shape=(1, 3, 1, 1), dtype=float32, numpy=\n",
              "array([[[[0.]],\n",
              "\n",
              "        [[0.]],\n",
              "\n",
              "        [[0.]]]], dtype=float32)>"
            ]
          },
          "metadata": {},
          "execution_count": 45
        }
      ]
    },
    {
      "cell_type": "code",
      "source": [
        "rank_4_tensor[:,:1,:1,:1]"
      ],
      "metadata": {
        "colab": {
          "base_uri": "https://localhost:8080/"
        },
        "id": "edlJGkX45pBI",
        "outputId": "30e0d47b-ac8c-4708-8ce0-612040715811"
      },
      "execution_count": null,
      "outputs": [
        {
          "output_type": "execute_result",
          "data": {
            "text/plain": [
              "<tf.Tensor: shape=(2, 1, 1, 1), dtype=float32, numpy=\n",
              "array([[[[0.]]],\n",
              "\n",
              "\n",
              "       [[[0.]]]], dtype=float32)>"
            ]
          },
          "metadata": {},
          "execution_count": 46
        }
      ]
    },
    {
      "cell_type": "code",
      "source": [
        "rank_2_tensor=tf.constant([[1,2],\n",
        "                           [3,4]])\n",
        "rank_2_tensor"
      ],
      "metadata": {
        "colab": {
          "base_uri": "https://localhost:8080/"
        },
        "id": "uUBI-WkA5t-U",
        "outputId": "d846aa1c-1066-41ca-b726-0eed99a0adab"
      },
      "execution_count": null,
      "outputs": [
        {
          "output_type": "execute_result",
          "data": {
            "text/plain": [
              "<tf.Tensor: shape=(2, 2), dtype=int32, numpy=\n",
              "array([[1, 2],\n",
              "       [3, 4]], dtype=int32)>"
            ]
          },
          "metadata": {},
          "execution_count": 47
        }
      ]
    },
    {
      "cell_type": "code",
      "source": [
        "rank_2_tensor.ndim"
      ],
      "metadata": {
        "colab": {
          "base_uri": "https://localhost:8080/"
        },
        "id": "9KpwWEl36B2d",
        "outputId": "1912c683-2174-4bc4-c64b-35f040629cd5"
      },
      "execution_count": null,
      "outputs": [
        {
          "output_type": "execute_result",
          "data": {
            "text/plain": [
              "2"
            ]
          },
          "metadata": {},
          "execution_count": 48
        }
      ]
    },
    {
      "cell_type": "code",
      "source": [
        "# Get the last item of each of our rank 2 tensor\n",
        "rank_2_tensor[:,-1]"
      ],
      "metadata": {
        "colab": {
          "base_uri": "https://localhost:8080/"
        },
        "id": "0hPbBBnl6QJk",
        "outputId": "90c71948-5d3d-4ccd-9399-a72a1dc6e219"
      },
      "execution_count": null,
      "outputs": [
        {
          "output_type": "execute_result",
          "data": {
            "text/plain": [
              "<tf.Tensor: shape=(2,), dtype=int32, numpy=array([2, 4], dtype=int32)>"
            ]
          },
          "metadata": {},
          "execution_count": 49
        }
      ]
    },
    {
      "cell_type": "code",
      "source": [
        "# Add in extra dimension to rank 2 tensor\n",
        "rank_3_tensor=rank_2_tensor[...,tf.newaxis]\n",
        "rank_3_tensor"
      ],
      "metadata": {
        "colab": {
          "base_uri": "https://localhost:8080/"
        },
        "id": "DOfdvVhh7QDM",
        "outputId": "4a45893d-b026-4c97-8b5b-4f2bceb28778"
      },
      "execution_count": null,
      "outputs": [
        {
          "output_type": "execute_result",
          "data": {
            "text/plain": [
              "<tf.Tensor: shape=(2, 2, 1), dtype=int32, numpy=\n",
              "array([[[1],\n",
              "        [2]],\n",
              "\n",
              "       [[3],\n",
              "        [4]]], dtype=int32)>"
            ]
          },
          "metadata": {},
          "execution_count": 50
        }
      ]
    },
    {
      "cell_type": "code",
      "source": [
        "# alternative tf.newaxis\n",
        "tf.expand_dims(rank_2_tensor,axis=-1)# \"-1\" means expand the final axis"
      ],
      "metadata": {
        "colab": {
          "base_uri": "https://localhost:8080/"
        },
        "id": "e5Cs_TrF7n-O",
        "outputId": "d9562e98-0e63-41d6-d88b-6e07c264d586"
      },
      "execution_count": null,
      "outputs": [
        {
          "output_type": "execute_result",
          "data": {
            "text/plain": [
              "<tf.Tensor: shape=(2, 2, 1), dtype=int32, numpy=\n",
              "array([[[1],\n",
              "        [2]],\n",
              "\n",
              "       [[3],\n",
              "        [4]]], dtype=int32)>"
            ]
          },
          "metadata": {},
          "execution_count": 51
        }
      ]
    },
    {
      "cell_type": "code",
      "source": [
        "tf.expand_dims(rank_2_tensor,axis=0)"
      ],
      "metadata": {
        "colab": {
          "base_uri": "https://localhost:8080/"
        },
        "id": "10hsY6T48mo6",
        "outputId": "9363501e-eac0-40c3-cbd2-41fc3578ad5a"
      },
      "execution_count": null,
      "outputs": [
        {
          "output_type": "execute_result",
          "data": {
            "text/plain": [
              "<tf.Tensor: shape=(1, 2, 2), dtype=int32, numpy=\n",
              "array([[[1, 2],\n",
              "        [3, 4]]], dtype=int32)>"
            ]
          },
          "metadata": {},
          "execution_count": 52
        }
      ]
    },
    {
      "cell_type": "code",
      "source": [
        "tf.expand_dims(rank_2_tensor,axis=1)"
      ],
      "metadata": {
        "colab": {
          "base_uri": "https://localhost:8080/"
        },
        "id": "BrYCt8sX800l",
        "outputId": "6fceb28d-7464-490f-8cbd-7892dcb983fb"
      },
      "execution_count": null,
      "outputs": [
        {
          "output_type": "execute_result",
          "data": {
            "text/plain": [
              "<tf.Tensor: shape=(2, 1, 2), dtype=int32, numpy=\n",
              "array([[[1, 2]],\n",
              "\n",
              "       [[3, 4]]], dtype=int32)>"
            ]
          },
          "metadata": {},
          "execution_count": 53
        }
      ]
    },
    {
      "cell_type": "markdown",
      "source": [
        "Manipulating Tensors\n",
        "Basic opration"
      ],
      "metadata": {
        "id": "Mo0ltX6H9Gkm"
      }
    },
    {
      "cell_type": "code",
      "source": [
        "#Add values to a tensor\n",
        "tensor=tf .constant([[1,2],[3,4]])\n",
        "tensor + 10"
      ],
      "metadata": {
        "colab": {
          "base_uri": "https://localhost:8080/"
        },
        "id": "RWiMpbKM9BN6",
        "outputId": "77c9b26d-e46f-46d7-ce08-6a2d89693c45"
      },
      "execution_count": null,
      "outputs": [
        {
          "output_type": "execute_result",
          "data": {
            "text/plain": [
              "<tf.Tensor: shape=(2, 2), dtype=int32, numpy=\n",
              "array([[11, 12],\n",
              "       [13, 14]], dtype=int32)>"
            ]
          },
          "metadata": {},
          "execution_count": 54
        }
      ]
    },
    {
      "cell_type": "code",
      "source": [
        "tensor"
      ],
      "metadata": {
        "colab": {
          "base_uri": "https://localhost:8080/"
        },
        "id": "nz0ln0d4B9hp",
        "outputId": "283c6dec-2f86-40e1-b16c-9a92633a0f58"
      },
      "execution_count": null,
      "outputs": [
        {
          "output_type": "execute_result",
          "data": {
            "text/plain": [
              "<tf.Tensor: shape=(2, 2), dtype=int32, numpy=\n",
              "array([[1, 2],\n",
              "       [3, 4]], dtype=int32)>"
            ]
          },
          "metadata": {},
          "execution_count": 55
        }
      ]
    },
    {
      "cell_type": "code",
      "source": [
        "# to change original tensor\n",
        "tensor=tensor+10\n",
        "tensor"
      ],
      "metadata": {
        "colab": {
          "base_uri": "https://localhost:8080/"
        },
        "id": "jXwXlIUkDq9N",
        "outputId": "8437e307-f823-462f-f377-2f1897af8310"
      },
      "execution_count": null,
      "outputs": [
        {
          "output_type": "execute_result",
          "data": {
            "text/plain": [
              "<tf.Tensor: shape=(2, 2), dtype=int32, numpy=\n",
              "array([[11, 12],\n",
              "       [13, 14]], dtype=int32)>"
            ]
          },
          "metadata": {},
          "execution_count": 56
        }
      ]
    },
    {
      "cell_type": "code",
      "source": [
        "tensor"
      ],
      "metadata": {
        "colab": {
          "base_uri": "https://localhost:8080/"
        },
        "id": "YrFr5cg1D0MZ",
        "outputId": "29ceb8d7-897f-46eb-a25c-ea3d22e019f4"
      },
      "execution_count": null,
      "outputs": [
        {
          "output_type": "execute_result",
          "data": {
            "text/plain": [
              "<tf.Tensor: shape=(2, 2), dtype=int32, numpy=\n",
              "array([[11, 12],\n",
              "       [13, 14]], dtype=int32)>"
            ]
          },
          "metadata": {},
          "execution_count": 57
        }
      ]
    },
    {
      "cell_type": "code",
      "source": [
        "# Multiplicaiton\n",
        "tensor*10"
      ],
      "metadata": {
        "colab": {
          "base_uri": "https://localhost:8080/"
        },
        "id": "_vRZLlz9D2R3",
        "outputId": "92a38cad-9fe5-4156-dc59-7b94b58517f3"
      },
      "execution_count": null,
      "outputs": [
        {
          "output_type": "execute_result",
          "data": {
            "text/plain": [
              "<tf.Tensor: shape=(2, 2), dtype=int32, numpy=\n",
              "array([[110, 120],\n",
              "       [130, 140]], dtype=int32)>"
            ]
          },
          "metadata": {},
          "execution_count": 58
        }
      ]
    },
    {
      "cell_type": "code",
      "source": [
        "#subtraction\n",
        "tensor-10\n"
      ],
      "metadata": {
        "colab": {
          "base_uri": "https://localhost:8080/"
        },
        "id": "Z3PIm0EqD85k",
        "outputId": "bf32ada3-5f1b-4652-bb7e-b8cc9f97950b"
      },
      "execution_count": null,
      "outputs": [
        {
          "output_type": "execute_result",
          "data": {
            "text/plain": [
              "<tf.Tensor: shape=(2, 2), dtype=int32, numpy=\n",
              "array([[1, 2],\n",
              "       [3, 4]], dtype=int32)>"
            ]
          },
          "metadata": {},
          "execution_count": 59
        }
      ]
    },
    {
      "cell_type": "code",
      "source": [
        "# we can use build-in function\n",
        "tf.math.multiply(tensor,10)"
      ],
      "metadata": {
        "colab": {
          "base_uri": "https://localhost:8080/"
        },
        "id": "VcvXOw0GEFXX",
        "outputId": "3f063b6d-399e-483d-810e-ab74e25cb2d2"
      },
      "execution_count": null,
      "outputs": [
        {
          "output_type": "execute_result",
          "data": {
            "text/plain": [
              "<tf.Tensor: shape=(2, 2), dtype=int32, numpy=\n",
              "array([[110, 120],\n",
              "       [130, 140]], dtype=int32)>"
            ]
          },
          "metadata": {},
          "execution_count": 60
        }
      ]
    },
    {
      "cell_type": "code",
      "source": [
        "tf.math.add(tensor,10)"
      ],
      "metadata": {
        "colab": {
          "base_uri": "https://localhost:8080/"
        },
        "id": "vVRd4W8YEULu",
        "outputId": "061e6987-ca14-454f-ecc7-f0e68dcb2321"
      },
      "execution_count": null,
      "outputs": [
        {
          "output_type": "execute_result",
          "data": {
            "text/plain": [
              "<tf.Tensor: shape=(2, 2), dtype=int32, numpy=\n",
              "array([[21, 22],\n",
              "       [23, 24]], dtype=int32)>"
            ]
          },
          "metadata": {},
          "execution_count": 61
        }
      ]
    },
    {
      "cell_type": "code",
      "source": [
        "tf.math.subtract(tensor,10)"
      ],
      "metadata": {
        "colab": {
          "base_uri": "https://localhost:8080/"
        },
        "id": "G6laRnGlEujT",
        "outputId": "ed0b1a93-d512-4a46-f155-24352cc25f18"
      },
      "execution_count": null,
      "outputs": [
        {
          "output_type": "execute_result",
          "data": {
            "text/plain": [
              "<tf.Tensor: shape=(2, 2), dtype=int32, numpy=\n",
              "array([[1, 2],\n",
              "       [3, 4]], dtype=int32)>"
            ]
          },
          "metadata": {},
          "execution_count": 62
        }
      ]
    },
    {
      "cell_type": "markdown",
      "source": [
        "Matrix Multiplication"
      ],
      "metadata": {
        "id": "WgTqRvQXFrrx"
      }
    },
    {
      "cell_type": "code",
      "source": [
        " A=tf.constant([[1,2,3],\n",
        "                [4,5,6],\n",
        "                [7,8,9]])\n",
        " B=tf.constant([[7,8,9],\n",
        "                 [1,2,3],\n",
        "                  [4,5,6]])"
      ],
      "metadata": {
        "id": "EmdEOuzwE0bh"
      },
      "execution_count": null,
      "outputs": []
    },
    {
      "cell_type": "code",
      "source": [
        "A,B"
      ],
      "metadata": {
        "colab": {
          "base_uri": "https://localhost:8080/"
        },
        "id": "8mPeuTrWHL7E",
        "outputId": "9db7ea4c-d4fc-4431-af37-3d2de8a2dba6"
      },
      "execution_count": null,
      "outputs": [
        {
          "output_type": "execute_result",
          "data": {
            "text/plain": [
              "(<tf.Tensor: shape=(3, 3), dtype=int32, numpy=\n",
              " array([[1, 2, 3],\n",
              "        [4, 5, 6],\n",
              "        [7, 8, 9]], dtype=int32)>,\n",
              " <tf.Tensor: shape=(3, 3), dtype=int32, numpy=\n",
              " array([[7, 8, 9],\n",
              "        [1, 2, 3],\n",
              "        [4, 5, 6]], dtype=int32)>)"
            ]
          },
          "metadata": {},
          "execution_count": 64
        }
      ]
    },
    {
      "cell_type": "markdown",
      "source": [
        "for matrix multiplication  use tf.amtmul"
      ],
      "metadata": {
        "id": "omdy0c7BHpPA"
      }
    },
    {
      "cell_type": "code",
      "source": [
        "tf.matmul(A,B)"
      ],
      "metadata": {
        "colab": {
          "base_uri": "https://localhost:8080/"
        },
        "id": "c7BBeRvyHUvW",
        "outputId": "4e9dc2d7-40c8-4503-b293-671f4ce44321"
      },
      "execution_count": null,
      "outputs": [
        {
          "output_type": "execute_result",
          "data": {
            "text/plain": [
              "<tf.Tensor: shape=(3, 3), dtype=int32, numpy=\n",
              "array([[ 21,  27,  33],\n",
              "       [ 57,  72,  87],\n",
              "       [ 93, 117, 141]], dtype=int32)>"
            ]
          },
          "metadata": {},
          "execution_count": 65
        }
      ]
    },
    {
      "cell_type": "code",
      "source": [
        "A*B"
      ],
      "metadata": {
        "colab": {
          "base_uri": "https://localhost:8080/"
        },
        "id": "Mut26cDzHy5G",
        "outputId": "0b5e00f6-6a1b-4229-e9e1-7430d4faae2c"
      },
      "execution_count": null,
      "outputs": [
        {
          "output_type": "execute_result",
          "data": {
            "text/plain": [
              "<tf.Tensor: shape=(3, 3), dtype=int32, numpy=\n",
              "array([[ 7, 16, 27],\n",
              "       [ 4, 10, 18],\n",
              "       [28, 40, 54]], dtype=int32)>"
            ]
          },
          "metadata": {},
          "execution_count": 66
        }
      ]
    },
    {
      "cell_type": "code",
      "source": [
        "# matrix multiplication with python operator \"@\"\n",
        "A @ B"
      ],
      "metadata": {
        "colab": {
          "base_uri": "https://localhost:8080/"
        },
        "id": "OrDQqDImILGb",
        "outputId": "ab83095f-cf2b-4dae-8f91-2c3752f8ce10"
      },
      "execution_count": null,
      "outputs": [
        {
          "output_type": "execute_result",
          "data": {
            "text/plain": [
              "<tf.Tensor: shape=(3, 3), dtype=int32, numpy=\n",
              "array([[ 21,  27,  33],\n",
              "       [ 57,  72,  87],\n",
              "       [ 93, 117, 141]], dtype=int32)>"
            ]
          },
          "metadata": {},
          "execution_count": 67
        }
      ]
    },
    {
      "cell_type": "code",
      "source": [
        "  # change shape of B\n",
        "  tf.reshape(B,shape=(3,3))"
      ],
      "metadata": {
        "colab": {
          "base_uri": "https://localhost:8080/"
        },
        "id": "43W2iit2IVew",
        "outputId": "d813d603-8af2-45d6-cf8c-f766a4a32ef0"
      },
      "execution_count": null,
      "outputs": [
        {
          "output_type": "execute_result",
          "data": {
            "text/plain": [
              "<tf.Tensor: shape=(3, 3), dtype=int32, numpy=\n",
              "array([[7, 8, 9],\n",
              "       [1, 2, 3],\n",
              "       [4, 5, 6]], dtype=int32)>"
            ]
          },
          "metadata": {},
          "execution_count": 68
        }
      ]
    },
    {
      "cell_type": "markdown",
      "source": [
        "# we can also use tf.transpose() instead of reshape\n",
        " \n",
        " and also with \n",
        " tf,matmul()\n",
        " tf.tensordot()"
      ],
      "metadata": {
        "id": "mjtGEMqCGJxU"
      }
    },
    {
      "cell_type": "code",
      "source": [
        "tf.tensordot(tf.transpose(A),B,axes=1)"
      ],
      "metadata": {
        "id": "2hVNbR9VM6rQ",
        "colab": {
          "base_uri": "https://localhost:8080/"
        },
        "outputId": "9d264492-4d76-4d2a-e304-4f9006edcff3"
      },
      "execution_count": null,
      "outputs": [
        {
          "output_type": "execute_result",
          "data": {
            "text/plain": [
              "<tf.Tensor: shape=(3, 3), dtype=int32, numpy=\n",
              "array([[39, 51, 63],\n",
              "       [51, 66, 81],\n",
              "       [63, 81, 99]], dtype=int32)>"
            ]
          },
          "metadata": {},
          "execution_count": 69
        }
      ]
    },
    {
      "cell_type": "code",
      "source": [
        "#perform matrix multiplication between X and Y(transposed)\n",
        "tf.matmul(A,tf.transpose(B))"
      ],
      "metadata": {
        "id": "PC9Rpyu1VhoX",
        "colab": {
          "base_uri": "https://localhost:8080/"
        },
        "outputId": "e737013c-794a-4f3d-91f3-98af3937a0ba"
      },
      "execution_count": null,
      "outputs": [
        {
          "output_type": "execute_result",
          "data": {
            "text/plain": [
              "<tf.Tensor: shape=(3, 3), dtype=int32, numpy=\n",
              "array([[ 50,  14,  32],\n",
              "       [122,  32,  77],\n",
              "       [194,  50, 122]], dtype=int32)>"
            ]
          },
          "metadata": {},
          "execution_count": 70
        }
      ]
    },
    {
      "cell_type": "code",
      "source": [
        "#perform matrix multiplication between A and B(reshaped)\n",
        "tf.matmul(A,tf.reshape(B,shape=(3,3)))"
      ],
      "metadata": {
        "colab": {
          "base_uri": "https://localhost:8080/"
        },
        "id": "1Xzv2Hi8HLTO",
        "outputId": "9d2d02a5-fb19-450b-8673-b531b8c70a89"
      },
      "execution_count": null,
      "outputs": [
        {
          "output_type": "execute_result",
          "data": {
            "text/plain": [
              "<tf.Tensor: shape=(3, 3), dtype=int32, numpy=\n",
              "array([[ 21,  27,  33],\n",
              "       [ 57,  72,  87],\n",
              "       [ 93, 117, 141]], dtype=int32)>"
            ]
          },
          "metadata": {},
          "execution_count": 71
        }
      ]
    },
    {
      "cell_type": "code",
      "source": [
        "# check values of A ,reshape A and transpose A\n",
        "print(\"Normal A : \")\n",
        "print(A,\"\\n\")\n",
        "print(\"reshaped A :\")\n",
        "print(tf.reshape(A,(3,3)),\"\\n\")\n",
        "print(\"transposed A:\")\n",
        "print(tf.transpose(A))\n",
        "\n"
      ],
      "metadata": {
        "colab": {
          "base_uri": "https://localhost:8080/"
        },
        "id": "K4A1lNfVHdOV",
        "outputId": "6367da45-055b-4b25-f27b-47e8156a0209"
      },
      "execution_count": null,
      "outputs": [
        {
          "output_type": "stream",
          "name": "stdout",
          "text": [
            "Normal A : \n",
            "tf.Tensor(\n",
            "[[1 2 3]\n",
            " [4 5 6]\n",
            " [7 8 9]], shape=(3, 3), dtype=int32) \n",
            "\n",
            "reshaped A :\n",
            "tf.Tensor(\n",
            "[[1 2 3]\n",
            " [4 5 6]\n",
            " [7 8 9]], shape=(3, 3), dtype=int32) \n",
            "\n",
            "transposed A:\n",
            "tf.Tensor(\n",
            "[[1 4 7]\n",
            " [2 5 8]\n",
            " [3 6 9]], shape=(3, 3), dtype=int32)\n"
          ]
        }
      ]
    },
    {
      "cell_type": "markdown",
      "source": [
        "Generally,when performing matrix multiplication on two tensors and one of the axes doesn;t line up,you will transpose (rather than reshape) one of the tensor to get satisfy the matrix multiplication rules."
      ],
      "metadata": {
        "id": "p0JLYn42J5CR"
      }
    },
    {
      "cell_type": "markdown",
      "source": [
        "CHanging the datatype of tensor\n"
      ],
      "metadata": {
        "id": "Cip9kty1KcCp"
      }
    },
    {
      "cell_type": "code",
      "source": [
        "S=tf.constant([1.2,3.4])\n",
        "S.dtype"
      ],
      "metadata": {
        "colab": {
          "base_uri": "https://localhost:8080/"
        },
        "id": "xOhriRhtIggR",
        "outputId": "73d91f31-ab31-42e2-b491-a749cbe80fdb"
      },
      "execution_count": null,
      "outputs": [
        {
          "output_type": "execute_result",
          "data": {
            "text/plain": [
              "tf.float32"
            ]
          },
          "metadata": {},
          "execution_count": 73
        }
      ]
    },
    {
      "cell_type": "code",
      "source": [
        "C=tf.constant([2,3])\n",
        "C.dtype"
      ],
      "metadata": {
        "colab": {
          "base_uri": "https://localhost:8080/"
        },
        "id": "go8cKgcqKyEo",
        "outputId": "192a9037-0516-4426-caac-8d03dfda1e72"
      },
      "execution_count": null,
      "outputs": [
        {
          "output_type": "execute_result",
          "data": {
            "text/plain": [
              "tf.int32"
            ]
          },
          "metadata": {},
          "execution_count": 74
        }
      ]
    },
    {
      "cell_type": "code",
      "source": [
        "#change float32 to float16\n",
        "W=tf.cast(S,dtype=tf.float16)\n",
        "W"
      ],
      "metadata": {
        "colab": {
          "base_uri": "https://localhost:8080/"
        },
        "id": "RCF4PvJlK57Q",
        "outputId": "b92a9682-fa93-4da3-c7c5-5baa3fae26a1"
      },
      "execution_count": null,
      "outputs": [
        {
          "output_type": "execute_result",
          "data": {
            "text/plain": [
              "<tf.Tensor: shape=(2,), dtype=float16, numpy=array([1.2, 3.4], dtype=float16)>"
            ]
          },
          "metadata": {},
          "execution_count": 75
        }
      ]
    },
    {
      "cell_type": "code",
      "source": [
        "#change int32 to float32\n",
        "O=tf.cast(C,dtype=tf.float32)\n",
        "O\n"
      ],
      "metadata": {
        "colab": {
          "base_uri": "https://localhost:8080/"
        },
        "id": "1TFi8iPNLptU",
        "outputId": "671a043c-0f1c-46e2-9146-77ac2a135507"
      },
      "execution_count": null,
      "outputs": [
        {
          "output_type": "execute_result",
          "data": {
            "text/plain": [
              "<tf.Tensor: shape=(2,), dtype=float32, numpy=array([2., 3.], dtype=float32)>"
            ]
          },
          "metadata": {},
          "execution_count": 76
        }
      ]
    },
    {
      "cell_type": "markdown",
      "source": [
        "**Aggregating tensors**\n",
        "means considering them from multiple values down to smaller amount of values"
      ],
      "metadata": {
        "id": "NZB9ZRnIw3um"
      }
    },
    {
      "cell_type": "code",
      "source": [
        "I=tf.constant([-6,-9])\n",
        "I"
      ],
      "metadata": {
        "id": "LJvHRkHqMJ0p",
        "colab": {
          "base_uri": "https://localhost:8080/"
        },
        "outputId": "44492157-1bd1-4095-fe90-d469efc8081a"
      },
      "execution_count": null,
      "outputs": [
        {
          "output_type": "execute_result",
          "data": {
            "text/plain": [
              "<tf.Tensor: shape=(2,), dtype=int32, numpy=array([-6, -9], dtype=int32)>"
            ]
          },
          "metadata": {},
          "execution_count": 77
        }
      ]
    },
    {
      "cell_type": "code",
      "source": [
        "# Get absolute values\n",
        "tf.abs(I)"
      ],
      "metadata": {
        "colab": {
          "base_uri": "https://localhost:8080/"
        },
        "id": "d3IIqBB7xT1C",
        "outputId": "0fc2b81e-cbc8-44fa-d706-8b64710e252f"
      },
      "execution_count": null,
      "outputs": [
        {
          "output_type": "execute_result",
          "data": {
            "text/plain": [
              "<tf.Tensor: shape=(2,), dtype=int32, numpy=array([6, 9], dtype=int32)>"
            ]
          },
          "metadata": {},
          "execution_count": 78
        }
      ]
    },
    {
      "cell_type": "markdown",
      "source": [
        "\n",
        "\n",
        "1.  get minimum\n",
        "2.   get maximum\n",
        "3. get mean\n",
        "4. get sum of tensor\n",
        "\n",
        "\n",
        "\n"
      ],
      "metadata": {
        "id": "at_vcFlVxbd8"
      }
    },
    {
      "cell_type": "code",
      "source": [
        "#create a tensor with values between 0 and 100 of size 50\n",
        "W=tf.constant(np.random.randint(0,100,size=50))\n",
        "W"
      ],
      "metadata": {
        "colab": {
          "base_uri": "https://localhost:8080/"
        },
        "id": "ObypW6vXxZpZ",
        "outputId": "c40d45a5-5f97-416b-e11a-fb5c8aa7bf91"
      },
      "execution_count": null,
      "outputs": [
        {
          "output_type": "execute_result",
          "data": {
            "text/plain": [
              "<tf.Tensor: shape=(50,), dtype=int64, numpy=\n",
              "array([80, 48, 58, 15, 27, 92, 97, 81, 80, 21, 38, 61, 34, 79, 49, 39, 84,\n",
              "       65, 41, 73, 66, 12, 91, 79, 93, 14, 29, 26,  4, 29, 76, 85, 50, 99,\n",
              "       98, 66,  5, 74, 79, 22, 16, 52, 78, 72, 88, 26, 67, 74, 66, 54])>"
            ]
          },
          "metadata": {},
          "execution_count": 79
        }
      ]
    },
    {
      "cell_type": "code",
      "source": [
        "#finf minimum\n",
        "tf.reduce_min(W)"
      ],
      "metadata": {
        "colab": {
          "base_uri": "https://localhost:8080/"
        },
        "id": "oNCdTTXXyM9l",
        "outputId": "b6892522-5e46-4b2d-a6d7-7f31f2fd0154"
      },
      "execution_count": null,
      "outputs": [
        {
          "output_type": "execute_result",
          "data": {
            "text/plain": [
              "<tf.Tensor: shape=(), dtype=int64, numpy=4>"
            ]
          },
          "metadata": {},
          "execution_count": 80
        }
      ]
    },
    {
      "cell_type": "code",
      "source": [
        "#find max\n",
        "tf.reduce_max(W)"
      ],
      "metadata": {
        "colab": {
          "base_uri": "https://localhost:8080/"
        },
        "id": "C_pzouFxyZib",
        "outputId": "61ba175a-c551-4772-aed5-05c28a8a7e42"
      },
      "execution_count": null,
      "outputs": [
        {
          "output_type": "execute_result",
          "data": {
            "text/plain": [
              "<tf.Tensor: shape=(), dtype=int64, numpy=99>"
            ]
          },
          "metadata": {},
          "execution_count": 81
        }
      ]
    },
    {
      "cell_type": "code",
      "source": [
        "#find mean\n",
        "tf.reduce_mean(W)"
      ],
      "metadata": {
        "colab": {
          "base_uri": "https://localhost:8080/"
        },
        "id": "AljsWGCxym2Z",
        "outputId": "55e0274c-6a17-44cd-b1ba-1b01793b2ba4"
      },
      "execution_count": null,
      "outputs": [
        {
          "output_type": "execute_result",
          "data": {
            "text/plain": [
              "<tf.Tensor: shape=(), dtype=int64, numpy=57>"
            ]
          },
          "metadata": {},
          "execution_count": 82
        }
      ]
    },
    {
      "cell_type": "code",
      "source": [
        "#find sum\n",
        "tf.reduce_sum(W)"
      ],
      "metadata": {
        "colab": {
          "base_uri": "https://localhost:8080/"
        },
        "id": "RUXM6lSIyuag",
        "outputId": "91cce529-b0e8-44d5-a99f-d5e7355d03e1"
      },
      "execution_count": null,
      "outputs": [
        {
          "output_type": "execute_result",
          "data": {
            "text/plain": [
              "<tf.Tensor: shape=(), dtype=int64, numpy=2852>"
            ]
          },
          "metadata": {},
          "execution_count": 83
        }
      ]
    },
    {
      "cell_type": "code",
      "source": [
        "tf.math.reduce_variance(W)"
      ],
      "metadata": {
        "colab": {
          "base_uri": "https://localhost:8080/",
          "height": 345
        },
        "id": "B72YujMfyyJP",
        "outputId": "c5647f0b-32cb-4714-d132-b8e0017755d2"
      },
      "execution_count": null,
      "outputs": [
        {
          "output_type": "error",
          "ename": "TypeError",
          "evalue": "ignored",
          "traceback": [
            "\u001b[0;31m---------------------------------------------------------------------------\u001b[0m",
            "\u001b[0;31mTypeError\u001b[0m                                 Traceback (most recent call last)",
            "\u001b[0;32m<ipython-input-85-8fc968285306>\u001b[0m in \u001b[0;36m<module>\u001b[0;34m\u001b[0m\n\u001b[0;32m----> 1\u001b[0;31m \u001b[0mtf\u001b[0m\u001b[0;34m.\u001b[0m\u001b[0mmath\u001b[0m\u001b[0;34m.\u001b[0m\u001b[0mreduce_variance\u001b[0m\u001b[0;34m(\u001b[0m\u001b[0mW\u001b[0m\u001b[0;34m)\u001b[0m\u001b[0;34m\u001b[0m\u001b[0;34m\u001b[0m\u001b[0m\n\u001b[0m",
            "\u001b[0;32m/usr/local/lib/python3.9/dist-packages/tensorflow/python/util/traceback_utils.py\u001b[0m in \u001b[0;36merror_handler\u001b[0;34m(*args, **kwargs)\u001b[0m\n\u001b[1;32m    151\u001b[0m     \u001b[0;32mexcept\u001b[0m \u001b[0mException\u001b[0m \u001b[0;32mas\u001b[0m \u001b[0me\u001b[0m\u001b[0;34m:\u001b[0m\u001b[0;34m\u001b[0m\u001b[0;34m\u001b[0m\u001b[0m\n\u001b[1;32m    152\u001b[0m       \u001b[0mfiltered_tb\u001b[0m \u001b[0;34m=\u001b[0m \u001b[0m_process_traceback_frames\u001b[0m\u001b[0;34m(\u001b[0m\u001b[0me\u001b[0m\u001b[0;34m.\u001b[0m\u001b[0m__traceback__\u001b[0m\u001b[0;34m)\u001b[0m\u001b[0;34m\u001b[0m\u001b[0;34m\u001b[0m\u001b[0m\n\u001b[0;32m--> 153\u001b[0;31m       \u001b[0;32mraise\u001b[0m \u001b[0me\u001b[0m\u001b[0;34m.\u001b[0m\u001b[0mwith_traceback\u001b[0m\u001b[0;34m(\u001b[0m\u001b[0mfiltered_tb\u001b[0m\u001b[0;34m)\u001b[0m \u001b[0;32mfrom\u001b[0m \u001b[0;32mNone\u001b[0m\u001b[0;34m\u001b[0m\u001b[0;34m\u001b[0m\u001b[0m\n\u001b[0m\u001b[1;32m    154\u001b[0m     \u001b[0;32mfinally\u001b[0m\u001b[0;34m:\u001b[0m\u001b[0;34m\u001b[0m\u001b[0;34m\u001b[0m\u001b[0m\n\u001b[1;32m    155\u001b[0m       \u001b[0;32mdel\u001b[0m \u001b[0mfiltered_tb\u001b[0m\u001b[0;34m\u001b[0m\u001b[0;34m\u001b[0m\u001b[0m\n",
            "\u001b[0;32m/usr/local/lib/python3.9/dist-packages/tensorflow/python/ops/math_ops.py\u001b[0m in \u001b[0;36mreduce_variance\u001b[0;34m(input_tensor, axis, keepdims, name)\u001b[0m\n\u001b[1;32m   2692\u001b[0m     \u001b[0mmeans\u001b[0m \u001b[0;34m=\u001b[0m \u001b[0mreduce_mean\u001b[0m\u001b[0;34m(\u001b[0m\u001b[0minput_tensor\u001b[0m\u001b[0;34m,\u001b[0m \u001b[0maxis\u001b[0m\u001b[0;34m=\u001b[0m\u001b[0maxis\u001b[0m\u001b[0;34m,\u001b[0m \u001b[0mkeepdims\u001b[0m\u001b[0;34m=\u001b[0m\u001b[0;32mTrue\u001b[0m\u001b[0;34m)\u001b[0m\u001b[0;34m\u001b[0m\u001b[0;34m\u001b[0m\u001b[0m\n\u001b[1;32m   2693\u001b[0m     \u001b[0;32mif\u001b[0m \u001b[0mmeans\u001b[0m\u001b[0;34m.\u001b[0m\u001b[0mdtype\u001b[0m\u001b[0;34m.\u001b[0m\u001b[0mis_integer\u001b[0m\u001b[0;34m:\u001b[0m\u001b[0;34m\u001b[0m\u001b[0;34m\u001b[0m\u001b[0m\n\u001b[0;32m-> 2694\u001b[0;31m       raise TypeError(f\"Input must be either real or complex. \"\n\u001b[0m\u001b[1;32m   2695\u001b[0m                       f\"Received integer type {means.dtype}.\")\n\u001b[1;32m   2696\u001b[0m     \u001b[0mdiff\u001b[0m \u001b[0;34m=\u001b[0m \u001b[0minput_tensor\u001b[0m \u001b[0;34m-\u001b[0m \u001b[0mmeans\u001b[0m\u001b[0;34m\u001b[0m\u001b[0;34m\u001b[0m\u001b[0m\n",
            "\u001b[0;31mTypeError\u001b[0m: Input must be either real or complex. Received integer type <dtype: 'int64'>."
          ]
        }
      ]
    },
    {
      "cell_type": "markdown",
      "source": [
        "One-hot encoding tensors\n"
      ],
      "metadata": {
        "id": "5IDm8mRn2Dox"
      }
    },
    {
      "cell_type": "code",
      "source": [
        "q=[0,1,2,3]\n",
        "depth=4\n",
        "#one-hot encode q\n",
        "tf.one_hot(q,depth)"
      ],
      "metadata": {
        "colab": {
          "base_uri": "https://localhost:8080/"
        },
        "id": "FbY-xmlJy9LO",
        "outputId": "dd990d1a-86dd-4651-8563-09407077f76b"
      },
      "execution_count": null,
      "outputs": [
        {
          "output_type": "execute_result",
          "data": {
            "text/plain": [
              "<tf.Tensor: shape=(4, 4), dtype=float32, numpy=\n",
              "array([[1., 0., 0., 0.],\n",
              "       [0., 1., 0., 0.],\n",
              "       [0., 0., 1., 0.],\n",
              "       [0., 0., 0., 1.]], dtype=float32)>"
            ]
          },
          "metadata": {},
          "execution_count": 88
        }
      ]
    },
    {
      "cell_type": "code",
      "source": [
        "# specify one-hot encoding\n",
        "tf.one_hot(q,depth,on_value=\"yo i love DL\",off_value=\"I also hate it\")"
      ],
      "metadata": {
        "colab": {
          "base_uri": "https://localhost:8080/"
        },
        "id": "q6mbM2Fu2lk_",
        "outputId": "067587ea-2f4e-4e6a-b9d1-b56161b70238"
      },
      "execution_count": null,
      "outputs": [
        {
          "output_type": "execute_result",
          "data": {
            "text/plain": [
              "<tf.Tensor: shape=(4, 4), dtype=string, numpy=\n",
              "array([[b'yo i love DL', b'I also hate it', b'I also hate it',\n",
              "        b'I also hate it'],\n",
              "       [b'I also hate it', b'yo i love DL', b'I also hate it',\n",
              "        b'I also hate it'],\n",
              "       [b'I also hate it', b'I also hate it', b'yo i love DL',\n",
              "        b'I also hate it'],\n",
              "       [b'I also hate it', b'I also hate it', b'I also hate it',\n",
              "        b'yo i love DL']], dtype=object)>"
            ]
          },
          "metadata": {},
          "execution_count": 89
        }
      ]
    },
    {
      "cell_type": "markdown",
      "source": [
        "GPU"
      ],
      "metadata": {
        "id": "CQpdPOP64wdR"
      }
    },
    {
      "cell_type": "code",
      "source": [
        "tf.config.list_physical_devices()\n"
      ],
      "metadata": {
        "colab": {
          "base_uri": "https://localhost:8080/"
        },
        "id": "63nmp9sw3J0b",
        "outputId": "31bf88ee-e248-42c2-b92d-12047583c18a"
      },
      "execution_count": null,
      "outputs": [
        {
          "output_type": "execute_result",
          "data": {
            "text/plain": [
              "[PhysicalDevice(name='/physical_device:CPU:0', device_type='CPU')]"
            ]
          },
          "metadata": {},
          "execution_count": 90
        }
      ]
    },
    {
      "cell_type": "code",
      "source": [
        "!nvidia-smi # to check which gpu we using"
      ],
      "metadata": {
        "colab": {
          "base_uri": "https://localhost:8080/"
        },
        "id": "67WIFzUh44Yn",
        "outputId": "76f75b6a-b6b4-4cc3-f68d-ecfb5016de0c"
      },
      "execution_count": null,
      "outputs": [
        {
          "output_type": "stream",
          "name": "stdout",
          "text": [
            "NVIDIA-SMI has failed because it couldn't communicate with the NVIDIA driver. Make sure that the latest NVIDIA driver is installed and running.\n",
            "\n"
          ]
        }
      ]
    },
    {
      "cell_type": "code",
      "source": [],
      "metadata": {
        "id": "6U23QrSZ5DCh"
      },
      "execution_count": null,
      "outputs": []
    }
  ]
}